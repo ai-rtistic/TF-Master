{
 "cells": [
  {
   "cell_type": "markdown",
   "id": "organic-quarter",
   "metadata": {},
   "source": [
    "# Model Train History Visualization\n",
    "# 학습 추이 시각화\n",
    "\n",
    "`keras` 모델의 `fit()` 메소드는 `History` 오브젝트를 반환한다. 이 객체는 아래의 정보를 가지고 있다.  \n",
    "- `loss` : 각 에포크마다의 학습 손실값\n",
    "- `accuracy` : 각 에포크마다의 학습 정확도\n",
    "- `val_loss` : 각 에포크마다의 검증 손실값\n",
    "- `val_accuracy` : 각 에포크마다의 검증 정확도\n",
    "\n",
    "\n",
    "`History.history` 속성은 연속된 에폭에 걸쳐 학습 손실 값과 학습 측정항목값을 기록하는 딕셔너리로, 또한 (적용 가능한 경우에는) 검증 손실 값과 검증 측정항목 값도 기록한다.\n",
    "\n",
    "아래의 과정으로 `matplotlib` 을 training set 과 test set 에 대한 loss와 accuracy 플롯을 만들 수 있다."
   ]
  },
  {
   "cell_type": "code",
   "execution_count": 1,
   "id": "healthy-upper",
   "metadata": {},
   "outputs": [],
   "source": [
    "# 학습 정확성 값과 검증 정확성 값을 플롯팅 합니다. \n",
    "# plt.plot(history.history['acc'])\n",
    "# plt.plot(history.history['val_acc'])\n",
    "# plt.title('Model accuracy')\n",
    "# plt.ylabel('Accuracy')\n",
    "# plt.xlabel('Epoch')\n",
    "# plt.legend(['Train', 'Test'], loc='upper left')\n",
    "# plt.show()\n",
    "\n",
    "# 학습 손실 값과 검증 손실 값을 플롯팅 합니다.\n",
    "# plt.plot(history.history['loss'])\n",
    "# plt.plot(history.history['val_loss'])\n",
    "# plt.title('Model loss')\n",
    "# plt.ylabel('Loss')\n",
    "# plt.xlabel('Epoch')\n",
    "# plt.legend(['Train', 'Test'], loc='upper left')\n",
    "# plt.show()"
   ]
  },
  {
   "cell_type": "markdown",
   "id": "about-decade",
   "metadata": {},
   "source": [
    "## MNIST 데이터셋 학습 과정 시각화\n",
    "\n",
    "간단한 예시로, MNIST 데이터셋을 다층 퍼셉트론 모델로 학습시키는 간단한 예제로 학습과정을 시각화 해보겠다."
   ]
  },
  {
   "cell_type": "markdown",
   "id": "legislative-swaziland",
   "metadata": {},
   "source": [
    "### 데이터셋 준비"
   ]
  },
  {
   "cell_type": "code",
   "execution_count": 2,
   "id": "processed-terminology",
   "metadata": {},
   "outputs": [],
   "source": [
    "from keras.utils import np_utils\n",
    "from keras.datasets import mnist\n",
    "from keras.models import Sequential\n",
    "from keras.layers import Dense, Activation\n",
    "import numpy as np\n",
    "\n",
    "# 훈련셋과 시험셋 로딩\n",
    "(X_train, Y_train), (X_test, Y_test) = mnist.load_data()\n",
    "\n",
    "# 훈련셋과 검증셋 분리\n",
    "X_val = X_train[50000:]\n",
    "Y_val = Y_train[50000:]\n",
    "X_train = X_train[:50000]\n",
    "Y_train = Y_train[:50000]\n",
    "\n",
    "X_train = X_train.reshape(50000, 784).astype('float32') / 255.0\n",
    "X_val = X_val.reshape(10000, 784).astype('float32') / 255.0\n",
    "X_test = X_test.reshape(10000, 784).astype('float32') / 255.0\n",
    "\n",
    "# 훈련셋, 검증셋 선택\n",
    "train_rand_idxs = np.random.choice(50000, 700)\n",
    "val_rand_idxs = np.random.choice(10000, 300)\n",
    "\n",
    "X_train = X_train[train_rand_idxs]\n",
    "Y_train = Y_train[train_rand_idxs]\n",
    "X_val = X_val[val_rand_idxs]\n",
    "Y_val = Y_val[val_rand_idxs]\n",
    "\n",
    "# 라벨링 전환\n",
    "Y_train = np_utils.to_categorical(Y_train)\n",
    "Y_val = np_utils.to_categorical(Y_val)\n",
    "Y_test = np_utils.to_categorical(Y_test)"
   ]
  },
  {
   "cell_type": "markdown",
   "id": "mediterranean-prime",
   "metadata": {},
   "source": [
    "### 모델 구성 및 학습"
   ]
  },
  {
   "cell_type": "code",
   "execution_count": 3,
   "id": "incomplete-passport",
   "metadata": {},
   "outputs": [
    {
     "name": "stdout",
     "output_type": "stream",
     "text": [
      "Epoch 1/50\n",
      "70/70 [==============================] - 1s 8ms/step - loss: 2.2678 - accuracy: 0.1054 - val_loss: 2.1406 - val_accuracy: 0.1633\n",
      "Epoch 2/50\n",
      "70/70 [==============================] - 0s 3ms/step - loss: 2.0921 - accuracy: 0.1794 - val_loss: 2.0326 - val_accuracy: 0.2300\n",
      "Epoch 3/50\n",
      "70/70 [==============================] - 0s 3ms/step - loss: 1.9826 - accuracy: 0.2556 - val_loss: 1.9473 - val_accuracy: 0.2833\n",
      "Epoch 4/50\n",
      "70/70 [==============================] - 0s 3ms/step - loss: 1.8751 - accuracy: 0.3204 - val_loss: 1.8643 - val_accuracy: 0.3267\n",
      "Epoch 5/50\n",
      "70/70 [==============================] - 0s 3ms/step - loss: 1.8004 - accuracy: 0.3774 - val_loss: 1.7874 - val_accuracy: 0.3833\n",
      "Epoch 6/50\n",
      "70/70 [==============================] - 0s 3ms/step - loss: 1.6633 - accuracy: 0.4636 - val_loss: 1.7140 - val_accuracy: 0.4233\n",
      "Epoch 7/50\n",
      "70/70 [==============================] - 0s 3ms/step - loss: 1.6072 - accuracy: 0.4855 - val_loss: 1.6450 - val_accuracy: 0.4233\n",
      "Epoch 8/50\n",
      "70/70 [==============================] - 0s 3ms/step - loss: 1.5084 - accuracy: 0.5018 - val_loss: 1.5661 - val_accuracy: 0.4700\n",
      "Epoch 9/50\n",
      "70/70 [==============================] - 0s 3ms/step - loss: 1.4625 - accuracy: 0.5344 - val_loss: 1.4902 - val_accuracy: 0.5000\n",
      "Epoch 10/50\n",
      "70/70 [==============================] - 0s 3ms/step - loss: 1.3838 - accuracy: 0.5717 - val_loss: 1.4145 - val_accuracy: 0.5533\n",
      "Epoch 11/50\n",
      "70/70 [==============================] - 0s 3ms/step - loss: 1.3117 - accuracy: 0.6100 - val_loss: 1.3457 - val_accuracy: 0.5867\n",
      "Epoch 12/50\n",
      "70/70 [==============================] - 0s 3ms/step - loss: 1.1898 - accuracy: 0.6542 - val_loss: 1.2773 - val_accuracy: 0.6167\n",
      "Epoch 13/50\n",
      "70/70 [==============================] - 0s 3ms/step - loss: 1.0627 - accuracy: 0.6984 - val_loss: 1.2074 - val_accuracy: 0.6367\n",
      "Epoch 14/50\n",
      "70/70 [==============================] - 0s 3ms/step - loss: 1.0709 - accuracy: 0.6949 - val_loss: 1.1674 - val_accuracy: 0.6133\n",
      "Epoch 15/50\n",
      "70/70 [==============================] - 0s 3ms/step - loss: 1.0115 - accuracy: 0.6976 - val_loss: 1.0919 - val_accuracy: 0.6567\n",
      "Epoch 16/50\n",
      "70/70 [==============================] - 0s 3ms/step - loss: 0.9337 - accuracy: 0.7263 - val_loss: 1.0375 - val_accuracy: 0.6700\n",
      "Epoch 17/50\n",
      "70/70 [==============================] - 0s 3ms/step - loss: 0.8625 - accuracy: 0.7346 - val_loss: 1.0178 - val_accuracy: 0.6833\n",
      "Epoch 18/50\n",
      "70/70 [==============================] - 0s 3ms/step - loss: 0.8386 - accuracy: 0.7588 - val_loss: 1.0060 - val_accuracy: 0.6700\n",
      "Epoch 19/50\n",
      "70/70 [==============================] - 0s 3ms/step - loss: 0.7958 - accuracy: 0.7792 - val_loss: 0.9816 - val_accuracy: 0.6967\n",
      "Epoch 20/50\n",
      "70/70 [==============================] - 0s 3ms/step - loss: 0.7800 - accuracy: 0.7773 - val_loss: 0.9319 - val_accuracy: 0.7100\n",
      "Epoch 21/50\n",
      "70/70 [==============================] - 0s 3ms/step - loss: 0.7008 - accuracy: 0.8088 - val_loss: 0.8916 - val_accuracy: 0.7133\n",
      "Epoch 22/50\n",
      "70/70 [==============================] - 0s 3ms/step - loss: 0.6646 - accuracy: 0.8046 - val_loss: 0.8761 - val_accuracy: 0.7233\n",
      "Epoch 23/50\n",
      "70/70 [==============================] - 0s 3ms/step - loss: 0.6522 - accuracy: 0.8117 - val_loss: 0.8701 - val_accuracy: 0.7300\n",
      "Epoch 24/50\n",
      "70/70 [==============================] - 0s 3ms/step - loss: 0.6406 - accuracy: 0.8023 - val_loss: 0.8467 - val_accuracy: 0.7333\n",
      "Epoch 25/50\n",
      "70/70 [==============================] - 0s 3ms/step - loss: 0.5652 - accuracy: 0.8372 - val_loss: 0.8251 - val_accuracy: 0.7467\n",
      "Epoch 26/50\n",
      "70/70 [==============================] - 0s 3ms/step - loss: 0.6399 - accuracy: 0.8161 - val_loss: 0.8180 - val_accuracy: 0.7533\n",
      "Epoch 27/50\n",
      "70/70 [==============================] - 0s 3ms/step - loss: 0.5580 - accuracy: 0.8208 - val_loss: 0.8114 - val_accuracy: 0.7633\n",
      "Epoch 28/50\n",
      "70/70 [==============================] - 0s 3ms/step - loss: 0.5498 - accuracy: 0.8457 - val_loss: 0.8005 - val_accuracy: 0.7567\n",
      "Epoch 29/50\n",
      "70/70 [==============================] - 0s 3ms/step - loss: 0.5196 - accuracy: 0.8677 - val_loss: 0.7827 - val_accuracy: 0.7633\n",
      "Epoch 30/50\n",
      "70/70 [==============================] - 0s 3ms/step - loss: 0.5025 - accuracy: 0.8564 - val_loss: 0.7951 - val_accuracy: 0.7500\n",
      "Epoch 31/50\n",
      "70/70 [==============================] - 0s 3ms/step - loss: 0.4965 - accuracy: 0.8442 - val_loss: 0.8389 - val_accuracy: 0.7500\n",
      "Epoch 32/50\n",
      "70/70 [==============================] - 0s 3ms/step - loss: 0.4176 - accuracy: 0.8994 - val_loss: 0.7899 - val_accuracy: 0.7700\n",
      "Epoch 33/50\n",
      "70/70 [==============================] - 0s 3ms/step - loss: 0.4385 - accuracy: 0.8925 - val_loss: 0.7688 - val_accuracy: 0.7833\n",
      "Epoch 34/50\n",
      "70/70 [==============================] - 0s 3ms/step - loss: 0.4171 - accuracy: 0.9066 - val_loss: 0.7574 - val_accuracy: 0.7900\n",
      "Epoch 35/50\n",
      "70/70 [==============================] - 0s 3ms/step - loss: 0.4883 - accuracy: 0.8664 - val_loss: 0.7301 - val_accuracy: 0.8033\n",
      "Epoch 36/50\n",
      "70/70 [==============================] - 0s 3ms/step - loss: 0.3984 - accuracy: 0.8985 - val_loss: 0.7560 - val_accuracy: 0.7900\n",
      "Epoch 37/50\n",
      "70/70 [==============================] - 0s 3ms/step - loss: 0.4205 - accuracy: 0.8939 - val_loss: 0.7284 - val_accuracy: 0.8033\n",
      "Epoch 38/50\n",
      "70/70 [==============================] - 0s 3ms/step - loss: 0.3736 - accuracy: 0.9097 - val_loss: 0.7252 - val_accuracy: 0.8000\n",
      "Epoch 39/50\n",
      "70/70 [==============================] - 0s 3ms/step - loss: 0.3623 - accuracy: 0.9163 - val_loss: 0.7295 - val_accuracy: 0.8000\n",
      "Epoch 40/50\n",
      "70/70 [==============================] - 0s 3ms/step - loss: 0.3571 - accuracy: 0.9008 - val_loss: 0.7222 - val_accuracy: 0.8033\n",
      "Epoch 41/50\n",
      "70/70 [==============================] - 0s 3ms/step - loss: 0.3525 - accuracy: 0.9115 - val_loss: 0.7335 - val_accuracy: 0.8033\n",
      "Epoch 42/50\n",
      "70/70 [==============================] - 0s 3ms/step - loss: 0.3367 - accuracy: 0.9088 - val_loss: 0.7532 - val_accuracy: 0.7900\n",
      "Epoch 43/50\n",
      "70/70 [==============================] - 0s 3ms/step - loss: 0.3085 - accuracy: 0.9292 - val_loss: 0.7279 - val_accuracy: 0.7967\n",
      "Epoch 44/50\n",
      "70/70 [==============================] - 0s 3ms/step - loss: 0.3606 - accuracy: 0.9196 - val_loss: 0.7481 - val_accuracy: 0.8000\n",
      "Epoch 45/50\n",
      "70/70 [==============================] - 0s 3ms/step - loss: 0.3177 - accuracy: 0.9223 - val_loss: 0.7630 - val_accuracy: 0.7967\n",
      "Epoch 46/50\n",
      "70/70 [==============================] - 0s 3ms/step - loss: 0.3135 - accuracy: 0.9227 - val_loss: 0.7215 - val_accuracy: 0.8067\n",
      "Epoch 47/50\n",
      "70/70 [==============================] - 0s 3ms/step - loss: 0.2830 - accuracy: 0.9423 - val_loss: 0.7442 - val_accuracy: 0.8000\n",
      "Epoch 48/50\n",
      "70/70 [==============================] - 0s 3ms/step - loss: 0.2599 - accuracy: 0.9294 - val_loss: 0.7253 - val_accuracy: 0.8067\n",
      "Epoch 49/50\n",
      "70/70 [==============================] - 0s 3ms/step - loss: 0.3065 - accuracy: 0.9194 - val_loss: 0.7320 - val_accuracy: 0.8133\n",
      "Epoch 50/50\n",
      "70/70 [==============================] - 0s 3ms/step - loss: 0.2827 - accuracy: 0.9367 - val_loss: 0.7631 - val_accuracy: 0.8133\n"
     ]
    }
   ],
   "source": [
    "# 모델 구성\n",
    "model = Sequential()\n",
    "model.add(Dense(units = 5, input_dim = 28 * 28, activation = 'relu'))\n",
    "model.add(Dense(units = 15, activation = 'relu'))\n",
    "model.add(Dense(units = 10, activation = 'softmax'))\n",
    "\n",
    "# 모델 엮기\n",
    "model.compile(loss='categorical_crossentropy', optimizer = 'sgd', metrics = ['accuracy'])\n",
    "\n",
    "# 모델 학습\n",
    "hist = model.fit(X_train, Y_train, epochs = 50, batch_size = 10, validation_data=(X_val, Y_val))"
   ]
  },
  {
   "cell_type": "markdown",
   "id": "intelligent-adoption",
   "metadata": {},
   "source": [
    "### 모델 학습 과정 시각화"
   ]
  },
  {
   "cell_type": "code",
   "execution_count": 4,
   "id": "further-comfort",
   "metadata": {},
   "outputs": [
    {
     "data": {
      "image/png": "[encoded data removed]",
      "text/plain": [
       "<Figure size 432x288 with 2 Axes>"
      ]
     },
     "metadata": {
      "needs_background": "light"
     },
     "output_type": "display_data"
    }
   ],
   "source": [
    "%matplotlib inline\n",
    "import matplotlib.pyplot as plt\n",
    "\n",
    "fig, loss_ax = plt.subplots()\n",
    "acc_ax = loss_ax.twinx()\n",
    "\n",
    "loss_ax.plot(hist.history['loss'], 'y', label = 'train loss')\n",
    "loss_ax.plot(hist.history['val_loss'], 'r', label = 'val loss')\n",
    "\n",
    "acc_ax.plot(hist.history['accuracy'], 'b', label = 'train accuracy')\n",
    "acc_ax.plot(hist.history['val_accuracy'], 'g', label = 'valid accuracy')\n",
    "\n",
    "loss_ax.set_xlabel('epoch')\n",
    "loss_ax.set_ylabel('loss')\n",
    "acc_ax.set_ylabel('accuracy')\n",
    "\n",
    "loss_ax.legend(loc='upper left')\n",
    "acc_ax.legend(loc='lower left')\n",
    "\n",
    "plt.show()"
   ]
  },
  {
   "cell_type": "markdown",
   "id": "weird-morocco",
   "metadata": {},
   "source": [
    "위와 같이 `matplotlib` 을 이용해서 한 눈에 학습 추이를 파악할 수 있다."
   ]
  },
  {
   "cell_type": "code",
   "execution_count": null,
   "id": "collaborative-millennium",
   "metadata": {},
   "outputs": [],
   "source": []
  }
 ],
 "metadata": {
  "kernelspec": {
   "display_name": "Python 3",
   "language": "python",
   "name": "python3"
  },
  "language_info": {
   "codemirror_mode": {
    "name": "ipython",
    "version": 3
   },
   "file_extension": ".py",
   "mimetype": "text/x-python",
   "name": "python",
   "nbconvert_exporter": "python",
   "pygments_lexer": "ipython3",
   "version": "3.7.9"
  }
 },
 "nbformat": 4,
 "nbformat_minor": 5
}
