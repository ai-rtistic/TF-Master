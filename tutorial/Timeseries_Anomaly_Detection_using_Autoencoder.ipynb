{
 "cells": [
  {
   "cell_type": "markdown",
   "id": "missing-zoning",
   "metadata": {},
   "source": [
    "# Autoencoder를 사용한 시계열 이상 탐지\n",
    "\n",
    "## 이상 탐지 (Anomaly Detection)\n",
    "\n",
    "- 엘리베이터, 에스컬레이터 같은 설비 시설의 고장을 사전에 막는 것 중요  \n",
    "\n",
    "\n",
    "- __이상 탐지__ 는 데이터를 통해 이상 패턴(이상징후), 개체 등을 찾아내는 것을 의미  \n",
    "\n",
    "\n",
    "-  이상 패턴을 즉각적으로 찾아서 고장을 사전에 방지할 수 있음\n",
    "\n",
    "![image](https://user-images.githubusercontent.com/84179578/130635006-2b5f4ac6-5ead-44b8-bf4d-79003c629721.png)\n",
    "\n",
    "\n",
    "----\n",
    "## 머신러닝, 딥러닝을 활용한 이상 탐지\n",
    "- 지도 학습\n",
    "  - 정상 데이터 + 이상 데이터로 학습\n",
    "  - 충분한 양의 (ex.엘리베이터)의 이상 데이터를 구하기 어려움\n",
    "  - 새로운 이상 패턴이 발생할 때 마다  새로 학습을 진행해야함\n",
    "  \n",
    "\n",
    "- 비지도 학습\n",
    "  - Autoencoder\n",
    "\n",
    "\n",
    "## Autoencoder\n",
    "\n",
    "오토인코더는 입력된 데이터를 재구성(복원)해내는 기능을 가진 알고리즘이다.  \n",
    "\n",
    "즉, 입력 데이터인 정상 데이터에 대한 특징을 학습하고 학습된 모델에 데이터를 집어 넣었을 때 재구성한 결과와 학습된 정상 특징과의 차이점을 비교해 이상 여부를 판단하게 된다.\n",
    "\n",
    "![image](https://user-images.githubusercontent.com/84179578/130632919-bdbe4872-00a5-4f5c-98ef-becc90bd5a6b.png)"
   ]
  },
  {
   "cell_type": "markdown",
   "id": "sacred-baghdad",
   "metadata": {},
   "source": [
    "![image](https://user-images.githubusercontent.com/84179578/130633424-00e9804c-0359-4b11-b6c0-15a70060278a.png)"
   ]
  },
  {
   "cell_type": "markdown",
   "id": "positive-banking",
   "metadata": {},
   "source": [
    "## 0. 필요한 모듈 불러오기"
   ]
  },
  {
   "cell_type": "code",
   "execution_count": 1,
   "id": "selective-visitor",
   "metadata": {},
   "outputs": [],
   "source": [
    "import numpy as np\n",
    "import pandas as pd\n",
    "from tensorflow import keras\n",
    "from tensorflow.keras import layers\n",
    "from matplotlib import pyplot as plt"
   ]
  },
  {
   "cell_type": "markdown",
   "id": "legal-transportation",
   "metadata": {},
   "source": [
    "## 1. 데이터 불러오기\n",
    "\n",
    "캐글에서 제공하는 [Numenta Anomaly Benchmark(NAB)](https://www.kaggle.com/boltzmannbrain/nab) 를 사용한다.  \n",
    "\n",
    "- `art_daily_small_noise.csv` : 정상적인 데이터 -> 훈련 데이터로 사용\n",
    "\n",
    "- `art_daily_jumpsup.csv` : 이상치가 포함되어 있는 데이터 -> 테스트 데이터로 사용"
   ]
  },
  {
   "cell_type": "code",
   "execution_count": 2,
   "id": "wired-power",
   "metadata": {},
   "outputs": [],
   "source": [
    "master_url_root = \"https://raw.githubusercontent.com/numenta/NAB/master/data/\"\n",
    "\n",
    "df_small_noise_url_suffix = \"artificialNoAnomaly/art_daily_small_noise.csv\"\n",
    "df_small_noise_url = master_url_root + df_small_noise_url_suffix\n",
    "df_small_noise = pd.read_csv(\n",
    "    df_small_noise_url, parse_dates=True, index_col=\"timestamp\"\n",
    ")\n",
    "\n",
    "df_daily_jumpsup_url_suffix = \"artificialWithAnomaly/art_daily_jumpsup.csv\"\n",
    "df_daily_jumpsup_url = master_url_root + df_daily_jumpsup_url_suffix\n",
    "df_daily_jumpsup = pd.read_csv(\n",
    "    df_daily_jumpsup_url, parse_dates=True, index_col=\"timestamp\"\n",
    ")"
   ]
  },
  {
   "cell_type": "code",
   "execution_count": 3,
   "id": "technological-newark",
   "metadata": {},
   "outputs": [
    {
     "data": {
      "text/html": [
       "<div>\n",
       "<style scoped>\n",
       "    .dataframe tbody tr th:only-of-type {\n",
       "        vertical-align: middle;\n",
       "    }\n",
       "\n",
       "    .dataframe tbody tr th {\n",
       "        vertical-align: top;\n",
       "    }\n",
       "\n",
       "    .dataframe thead th {\n",
       "        text-align: right;\n",
       "    }\n",
       "</style>\n",
       "<table border=\"1\" class=\"dataframe\">\n",
       "  <thead>\n",
       "    <tr style=\"text-align: right;\">\n",
       "      <th></th>\n",
       "      <th>value</th>\n",
       "    </tr>\n",
       "    <tr>\n",
       "      <th>timestamp</th>\n",
       "      <th></th>\n",
       "    </tr>\n",
       "  </thead>\n",
       "  <tbody>\n",
       "    <tr>\n",
       "      <th>2014-04-01 00:00:00</th>\n",
       "      <td>18.324919</td>\n",
       "    </tr>\n",
       "    <tr>\n",
       "      <th>2014-04-01 00:05:00</th>\n",
       "      <td>21.970327</td>\n",
       "    </tr>\n",
       "    <tr>\n",
       "      <th>2014-04-01 00:10:00</th>\n",
       "      <td>18.624806</td>\n",
       "    </tr>\n",
       "    <tr>\n",
       "      <th>2014-04-01 00:15:00</th>\n",
       "      <td>21.953684</td>\n",
       "    </tr>\n",
       "    <tr>\n",
       "      <th>2014-04-01 00:20:00</th>\n",
       "      <td>21.909120</td>\n",
       "    </tr>\n",
       "    <tr>\n",
       "      <th>...</th>\n",
       "      <td>...</td>\n",
       "    </tr>\n",
       "    <tr>\n",
       "      <th>2014-04-14 23:35:00</th>\n",
       "      <td>20.211195</td>\n",
       "    </tr>\n",
       "    <tr>\n",
       "      <th>2014-04-14 23:40:00</th>\n",
       "      <td>20.531041</td>\n",
       "    </tr>\n",
       "    <tr>\n",
       "      <th>2014-04-14 23:45:00</th>\n",
       "      <td>19.032127</td>\n",
       "    </tr>\n",
       "    <tr>\n",
       "      <th>2014-04-14 23:50:00</th>\n",
       "      <td>21.798801</td>\n",
       "    </tr>\n",
       "    <tr>\n",
       "      <th>2014-04-14 23:55:00</th>\n",
       "      <td>18.682620</td>\n",
       "    </tr>\n",
       "  </tbody>\n",
       "</table>\n",
       "<p>4032 rows × 1 columns</p>\n",
       "</div>"
      ],
      "text/plain": [
       "                         value\n",
       "timestamp                     \n",
       "2014-04-01 00:00:00  18.324919\n",
       "2014-04-01 00:05:00  21.970327\n",
       "2014-04-01 00:10:00  18.624806\n",
       "2014-04-01 00:15:00  21.953684\n",
       "2014-04-01 00:20:00  21.909120\n",
       "...                        ...\n",
       "2014-04-14 23:35:00  20.211195\n",
       "2014-04-14 23:40:00  20.531041\n",
       "2014-04-14 23:45:00  19.032127\n",
       "2014-04-14 23:50:00  21.798801\n",
       "2014-04-14 23:55:00  18.682620\n",
       "\n",
       "[4032 rows x 1 columns]"
      ]
     },
     "execution_count": 3,
     "metadata": {},
     "output_type": "execute_result"
    }
   ],
   "source": [
    "df_small_noise"
   ]
  },
  {
   "cell_type": "code",
   "execution_count": 4,
   "id": "oriented-reproduction",
   "metadata": {},
   "outputs": [
    {
     "data": {
      "text/html": [
       "<div>\n",
       "<style scoped>\n",
       "    .dataframe tbody tr th:only-of-type {\n",
       "        vertical-align: middle;\n",
       "    }\n",
       "\n",
       "    .dataframe tbody tr th {\n",
       "        vertical-align: top;\n",
       "    }\n",
       "\n",
       "    .dataframe thead th {\n",
       "        text-align: right;\n",
       "    }\n",
       "</style>\n",
       "<table border=\"1\" class=\"dataframe\">\n",
       "  <thead>\n",
       "    <tr style=\"text-align: right;\">\n",
       "      <th></th>\n",
       "      <th>value</th>\n",
       "    </tr>\n",
       "    <tr>\n",
       "      <th>timestamp</th>\n",
       "      <th></th>\n",
       "    </tr>\n",
       "  </thead>\n",
       "  <tbody>\n",
       "    <tr>\n",
       "      <th>2014-04-01 00:00:00</th>\n",
       "      <td>19.761252</td>\n",
       "    </tr>\n",
       "    <tr>\n",
       "      <th>2014-04-01 00:05:00</th>\n",
       "      <td>20.500833</td>\n",
       "    </tr>\n",
       "    <tr>\n",
       "      <th>2014-04-01 00:10:00</th>\n",
       "      <td>19.961641</td>\n",
       "    </tr>\n",
       "    <tr>\n",
       "      <th>2014-04-01 00:15:00</th>\n",
       "      <td>21.490266</td>\n",
       "    </tr>\n",
       "    <tr>\n",
       "      <th>2014-04-01 00:20:00</th>\n",
       "      <td>20.187739</td>\n",
       "    </tr>\n",
       "    <tr>\n",
       "      <th>...</th>\n",
       "      <td>...</td>\n",
       "    </tr>\n",
       "    <tr>\n",
       "      <th>2014-04-14 23:35:00</th>\n",
       "      <td>18.074649</td>\n",
       "    </tr>\n",
       "    <tr>\n",
       "      <th>2014-04-14 23:40:00</th>\n",
       "      <td>21.002014</td>\n",
       "    </tr>\n",
       "    <tr>\n",
       "      <th>2014-04-14 23:45:00</th>\n",
       "      <td>20.566713</td>\n",
       "    </tr>\n",
       "    <tr>\n",
       "      <th>2014-04-14 23:50:00</th>\n",
       "      <td>18.254193</td>\n",
       "    </tr>\n",
       "    <tr>\n",
       "      <th>2014-04-14 23:55:00</th>\n",
       "      <td>21.863147</td>\n",
       "    </tr>\n",
       "  </tbody>\n",
       "</table>\n",
       "<p>4032 rows × 1 columns</p>\n",
       "</div>"
      ],
      "text/plain": [
       "                         value\n",
       "timestamp                     \n",
       "2014-04-01 00:00:00  19.761252\n",
       "2014-04-01 00:05:00  20.500833\n",
       "2014-04-01 00:10:00  19.961641\n",
       "2014-04-01 00:15:00  21.490266\n",
       "2014-04-01 00:20:00  20.187739\n",
       "...                        ...\n",
       "2014-04-14 23:35:00  18.074649\n",
       "2014-04-14 23:40:00  21.002014\n",
       "2014-04-14 23:45:00  20.566713\n",
       "2014-04-14 23:50:00  18.254193\n",
       "2014-04-14 23:55:00  21.863147\n",
       "\n",
       "[4032 rows x 1 columns]"
      ]
     },
     "execution_count": 4,
     "metadata": {},
     "output_type": "execute_result"
    }
   ],
   "source": [
    "df_daily_jumpsup"
   ]
  },
  {
   "cell_type": "markdown",
   "id": "reliable-knowing",
   "metadata": {},
   "source": [
    "----\n",
    "## 2. 데이터 시각화"
   ]
  },
  {
   "cell_type": "markdown",
   "id": "aggressive-duncan",
   "metadata": {},
   "source": [
    "### 정상 데이터"
   ]
  },
  {
   "cell_type": "code",
   "execution_count": 5,
   "id": "serial-shareware",
   "metadata": {},
   "outputs": [
    {
     "data": {
      "image/png": "[encoded data removed]",
      "text/plain": [
       "<Figure size 432x288 with 1 Axes>"
      ]
     },
     "metadata": {
      "needs_background": "light"
     },
     "output_type": "display_data"
    }
   ],
   "source": [
    "fig, ax = plt.subplots()\n",
    "df_small_noise.plot(legend=False, ax=ax)\n",
    "plt.show()"
   ]
  },
  {
   "cell_type": "markdown",
   "id": "opening-child",
   "metadata": {},
   "source": [
    "### 이상 데이터"
   ]
  },
  {
   "cell_type": "code",
   "execution_count": 6,
   "id": "genuine-atlantic",
   "metadata": {},
   "outputs": [
    {
     "data": {
      "image/png": "[encoded data removed]",
      "text/plain": [
       "<Figure size 432x288 with 1 Axes>"
      ]
     },
     "metadata": {
      "needs_background": "light"
     },
     "output_type": "display_data"
    }
   ],
   "source": [
    "fig, ax = plt.subplots()\n",
    "df_daily_jumpsup.plot(legend=False, ax=ax)\n",
    "plt.show()"
   ]
  },
  {
   "cell_type": "markdown",
   "id": "adopted-parameter",
   "metadata": {},
   "source": [
    "----\n",
    "## 3. 훈련 데이터 준비"
   ]
  },
  {
   "cell_type": "markdown",
   "id": "healthy-guyana",
   "metadata": {},
   "source": [
    "### 정규화 (Normalization)\n",
    "\n",
    "Z-Score Normailization   ->  $(X - 평균) / 표준편차$"
   ]
  },
  {
   "cell_type": "code",
   "execution_count": 7,
   "id": "familiar-mercy",
   "metadata": {},
   "outputs": [
    {
     "name": "stdout",
     "output_type": "stream",
     "text": [
      "Number of training samples: 4032\n"
     ]
    }
   ],
   "source": [
    "# Normalize and save the mean and std we get,\n",
    "# for normalizing test data.\n",
    "training_mean = df_small_noise.mean()\n",
    "training_std = df_small_noise.std()\n",
    "df_training_value = (df_small_noise - training_mean) / training_std\n",
    "print(\"Number of training samples:\", len(df_training_value))"
   ]
  },
  {
   "cell_type": "code",
   "execution_count": 8,
   "id": "characteristic-adaptation",
   "metadata": {
    "scrolled": false
   },
   "outputs": [
    {
     "name": "stdout",
     "output_type": "stream",
     "text": [
      "(4032, 1)\n"
     ]
    }
   ],
   "source": [
    "print(df_training_value.shape)"
   ]
  },
  {
   "cell_type": "markdown",
   "id": "valuable-butter",
   "metadata": {},
   "source": [
    "- 24 * 60 / 5 = __하루에 288개의 시간 단계__\n",
    "- 288 * 14 = __총 4032개의 데이터 포인트__"
   ]
  },
  {
   "cell_type": "markdown",
   "id": "adjusted-forward",
   "metadata": {},
   "source": [
    "### 시퀀스 생성\n",
    "`TIME_STEPS`훈련 데이터에서 연속 데이터 값을 결합하는 시퀀스를 생성"
   ]
  },
  {
   "cell_type": "code",
   "execution_count": 9,
   "id": "protected-rescue",
   "metadata": {},
   "outputs": [
    {
     "name": "stdout",
     "output_type": "stream",
     "text": [
      "Training input shape:  (3745, 288, 1)\n"
     ]
    }
   ],
   "source": [
    "TIME_STEPS = 288\n",
    "\n",
    "# Generated training sequences for use in the model.\n",
    "def create_sequences(values, time_steps=TIME_STEPS):\n",
    "    output = []\n",
    "    for i in range(len(values) - time_steps + 1):\n",
    "        output.append(values[i : (i + time_steps)])\n",
    "    return np.stack(output)\n",
    "\n",
    "\n",
    "x_train = create_sequences(df_training_value.values)\n",
    "print(\"Training input shape: \", x_train.shape)"
   ]
  },
  {
   "cell_type": "markdown",
   "id": "distinct-spelling",
   "metadata": {},
   "source": [
    "----\n",
    "## 4. 모델 생성\n",
    "Convolutional reconstruction autoencoder model 을 구축한다.\n",
    "\n",
    "모델의 입력은 (`batch_size`, `sequence_length`, `num_features`) 를 받고 동일한 shape의 출력을 반환한다.  \n",
    "\n",
    "지금의 경우,  `sequence_length`은 288, `num_features`은 1 이다."
   ]
  },
  {
   "cell_type": "code",
   "execution_count": 10,
   "id": "fiscal-trinidad",
   "metadata": {},
   "outputs": [
    {
     "name": "stdout",
     "output_type": "stream",
     "text": [
      "Model: \"sequential\"\n",
      "_________________________________________________________________\n",
      "Layer (type)                 Output Shape              Param #   \n",
      "=================================================================\n",
      "conv1d (Conv1D)              (None, 144, 32)           256       \n",
      "_________________________________________________________________\n",
      "dropout (Dropout)            (None, 144, 32)           0         \n",
      "_________________________________________________________________\n",
      "conv1d_1 (Conv1D)            (None, 72, 16)            3600      \n",
      "_________________________________________________________________\n",
      "conv1d_transpose (Conv1DTran (None, 144, 16)           1808      \n",
      "_________________________________________________________________\n",
      "dropout_1 (Dropout)          (None, 144, 16)           0         \n",
      "_________________________________________________________________\n",
      "conv1d_transpose_1 (Conv1DTr (None, 288, 32)           3616      \n",
      "_________________________________________________________________\n",
      "conv1d_transpose_2 (Conv1DTr (None, 288, 1)            225       \n",
      "=================================================================\n",
      "Total params: 9,505\n",
      "Trainable params: 9,505\n",
      "Non-trainable params: 0\n",
      "_________________________________________________________________\n"
     ]
    }
   ],
   "source": [
    "model = keras.Sequential(\n",
    "    [\n",
    "        layers.Input(shape=(x_train.shape[1], x_train.shape[2])),\n",
    "        layers.Conv1D(\n",
    "            filters=32, kernel_size=7, padding=\"same\", strides=2, activation=\"relu\"\n",
    "        ),\n",
    "        layers.Dropout(rate=0.2),\n",
    "        layers.Conv1D(\n",
    "            filters=16, kernel_size=7, padding=\"same\", strides=2, activation=\"relu\"\n",
    "        ),\n",
    "        layers.Conv1DTranspose(\n",
    "            filters=16, kernel_size=7, padding=\"same\", strides=2, activation=\"relu\"\n",
    "        ),\n",
    "        layers.Dropout(rate=0.2),\n",
    "        layers.Conv1DTranspose(\n",
    "            filters=32, kernel_size=7, padding=\"same\", strides=2, activation=\"relu\"\n",
    "        ),\n",
    "        layers.Conv1DTranspose(filters=1, kernel_size=7, padding=\"same\"),\n",
    "    ]\n",
    ")\n",
    "model.compile(optimizer=keras.optimizers.Adam(learning_rate=0.001), loss=\"mse\")\n",
    "model.summary()"
   ]
  },
  {
   "cell_type": "markdown",
   "id": "false-transformation",
   "metadata": {},
   "source": [
    "----\n",
    "## 5. 모델 훈련\n",
    "Reconstruction Model을 구축하는 것이므로 input 데이터와 target 데이터 모두 `x_train` 을 넣어준다."
   ]
  },
  {
   "cell_type": "code",
   "execution_count": 11,
   "id": "literary-climb",
   "metadata": {},
   "outputs": [
    {
     "name": "stdout",
     "output_type": "stream",
     "text": [
      "Epoch 1/50\n",
      "27/27 [==============================] - 10s 194ms/step - loss: 0.7471 - val_loss: 0.0790\n",
      "Epoch 2/50\n",
      "27/27 [==============================] - 0s 11ms/step - loss: 0.0829 - val_loss: 0.0395\n",
      "Epoch 3/50\n",
      "27/27 [==============================] - 0s 10ms/step - loss: 0.0552 - val_loss: 0.0313\n",
      "Epoch 4/50\n",
      "27/27 [==============================] - 0s 9ms/step - loss: 0.0460 - val_loss: 0.0267\n",
      "Epoch 5/50\n",
      "27/27 [==============================] - 0s 9ms/step - loss: 0.0392 - val_loss: 0.0234\n",
      "Epoch 6/50\n",
      "27/27 [==============================] - 0s 9ms/step - loss: 0.0346 - val_loss: 0.0217\n",
      "Epoch 7/50\n",
      "27/27 [==============================] - 0s 9ms/step - loss: 0.0314 - val_loss: 0.0198\n",
      "Epoch 8/50\n",
      "27/27 [==============================] - 0s 9ms/step - loss: 0.0289 - val_loss: 0.0185\n",
      "Epoch 9/50\n",
      "27/27 [==============================] - 0s 9ms/step - loss: 0.0267 - val_loss: 0.0176\n",
      "Epoch 10/50\n",
      "27/27 [==============================] - 0s 9ms/step - loss: 0.0251 - val_loss: 0.0159\n",
      "Epoch 11/50\n",
      "27/27 [==============================] - 0s 9ms/step - loss: 0.0234 - val_loss: 0.0162\n",
      "Epoch 12/50\n",
      "27/27 [==============================] - 0s 9ms/step - loss: 0.0222 - val_loss: 0.0159\n",
      "Epoch 13/50\n",
      "27/27 [==============================] - 0s 9ms/step - loss: 0.0210 - val_loss: 0.0142\n",
      "Epoch 14/50\n",
      "27/27 [==============================] - 0s 9ms/step - loss: 0.0198 - val_loss: 0.0138\n",
      "Epoch 15/50\n",
      "27/27 [==============================] - 0s 9ms/step - loss: 0.0187 - val_loss: 0.0140\n",
      "Epoch 16/50\n",
      "27/27 [==============================] - 0s 10ms/step - loss: 0.0177 - val_loss: 0.0123\n",
      "Epoch 17/50\n",
      "27/27 [==============================] - 0s 9ms/step - loss: 0.0168 - val_loss: 0.0124\n",
      "Epoch 18/50\n",
      "27/27 [==============================] - 0s 9ms/step - loss: 0.0159 - val_loss: 0.0125\n",
      "Epoch 19/50\n",
      "27/27 [==============================] - 0s 9ms/step - loss: 0.0150 - val_loss: 0.0115\n",
      "Epoch 20/50\n",
      "27/27 [==============================] - 0s 9ms/step - loss: 0.0142 - val_loss: 0.0112\n",
      "Epoch 21/50\n",
      "27/27 [==============================] - 0s 9ms/step - loss: 0.0135 - val_loss: 0.0106\n",
      "Epoch 22/50\n",
      "27/27 [==============================] - 0s 9ms/step - loss: 0.0128 - val_loss: 0.0108\n",
      "Epoch 23/50\n",
      "27/27 [==============================] - 0s 9ms/step - loss: 0.0122 - val_loss: 0.0101\n",
      "Epoch 24/50\n",
      "27/27 [==============================] - 0s 9ms/step - loss: 0.0116 - val_loss: 0.0099\n",
      "Epoch 25/50\n",
      "27/27 [==============================] - 0s 9ms/step - loss: 0.0109 - val_loss: 0.0099\n",
      "Epoch 26/50\n",
      "27/27 [==============================] - 0s 9ms/step - loss: 0.0105 - val_loss: 0.0100\n",
      "Epoch 27/50\n",
      "27/27 [==============================] - 0s 9ms/step - loss: 0.0100 - val_loss: 0.0093\n",
      "Epoch 28/50\n",
      "27/27 [==============================] - 0s 9ms/step - loss: 0.0096 - val_loss: 0.0091\n",
      "Epoch 29/50\n",
      "27/27 [==============================] - 0s 9ms/step - loss: 0.0094 - val_loss: 0.0089\n",
      "Epoch 30/50\n",
      "27/27 [==============================] - 0s 9ms/step - loss: 0.0091 - val_loss: 0.0085\n",
      "Epoch 31/50\n",
      "27/27 [==============================] - 0s 9ms/step - loss: 0.0088 - val_loss: 0.0081\n",
      "Epoch 32/50\n",
      "27/27 [==============================] - 0s 9ms/step - loss: 0.0085 - val_loss: 0.0083\n",
      "Epoch 33/50\n",
      "27/27 [==============================] - 0s 9ms/step - loss: 0.0083 - val_loss: 0.0079\n",
      "Epoch 34/50\n",
      "27/27 [==============================] - 0s 9ms/step - loss: 0.0081 - val_loss: 0.0076\n",
      "Epoch 35/50\n",
      "27/27 [==============================] - 0s 9ms/step - loss: 0.0079 - val_loss: 0.0068\n",
      "Epoch 36/50\n",
      "27/27 [==============================] - 0s 9ms/step - loss: 0.0076 - val_loss: 0.0067\n",
      "Epoch 37/50\n",
      "27/27 [==============================] - 0s 9ms/step - loss: 0.0075 - val_loss: 0.0065\n",
      "Epoch 38/50\n",
      "27/27 [==============================] - 0s 9ms/step - loss: 0.0073 - val_loss: 0.0063\n",
      "Epoch 39/50\n",
      "27/27 [==============================] - 0s 9ms/step - loss: 0.0071 - val_loss: 0.0062\n",
      "Epoch 40/50\n",
      "27/27 [==============================] - 0s 9ms/step - loss: 0.0070 - val_loss: 0.0058\n",
      "Epoch 41/50\n",
      "27/27 [==============================] - 0s 9ms/step - loss: 0.0069 - val_loss: 0.0056\n",
      "Epoch 42/50\n",
      "27/27 [==============================] - 0s 9ms/step - loss: 0.0067 - val_loss: 0.0057\n",
      "Epoch 43/50\n",
      "27/27 [==============================] - 0s 9ms/step - loss: 0.0066 - val_loss: 0.0055\n",
      "Epoch 44/50\n",
      "27/27 [==============================] - 0s 9ms/step - loss: 0.0064 - val_loss: 0.0055\n",
      "Epoch 45/50\n",
      "27/27 [==============================] - 0s 9ms/step - loss: 0.0064 - val_loss: 0.0052\n",
      "Epoch 46/50\n",
      "27/27 [==============================] - 0s 9ms/step - loss: 0.0062 - val_loss: 0.0048\n",
      "Epoch 47/50\n",
      "27/27 [==============================] - 0s 9ms/step - loss: 0.0061 - val_loss: 0.0049\n",
      "Epoch 48/50\n",
      "27/27 [==============================] - 0s 9ms/step - loss: 0.0060 - val_loss: 0.0048\n",
      "Epoch 49/50\n",
      "27/27 [==============================] - 0s 9ms/step - loss: 0.0059 - val_loss: 0.0048\n",
      "Epoch 50/50\n",
      "27/27 [==============================] - 0s 9ms/step - loss: 0.0058 - val_loss: 0.0046\n"
     ]
    }
   ],
   "source": [
    "history = model.fit(\n",
    "    x_train,\n",
    "    x_train,\n",
    "    epochs=50,\n",
    "    batch_size=128,\n",
    "    validation_split=0.1,\n",
    "    callbacks=[\n",
    "        keras.callbacks.EarlyStopping(monitor=\"val_loss\", patience=5, mode=\"min\")\n",
    "    ],\n",
    ")"
   ]
  },
  {
   "cell_type": "code",
   "execution_count": 12,
   "id": "dietary-asbestos",
   "metadata": {},
   "outputs": [
    {
     "data": {
      "image/png": "[encoded data removed]",
      "text/plain": [
       "<Figure size 432x288 with 1 Axes>"
      ]
     },
     "metadata": {
      "needs_background": "light"
     },
     "output_type": "display_data"
    }
   ],
   "source": [
    "plt.plot(history.history[\"loss\"], label=\"Training Loss\")\n",
    "plt.plot(history.history[\"val_loss\"], label=\"Validation Loss\")\n",
    "plt.legend()\n",
    "plt.show()"
   ]
  },
  {
   "cell_type": "markdown",
   "id": "loose-robinson",
   "metadata": {},
   "source": [
    "----\n",
    "## 6. 이상 탐지\n",
    "\n",
    "모델이 입력 데이터를 얼마나 잘 재구성 할 수 있는지 결정하여 이상을 탐지한다. 과정은 아래와 같다.  \n",
    "\n",
    "- 1. 훈련 샘플에서 MAE (평균절대오차) loss를 구함\n",
    "- 2. 훈련 샘플에서의 최대 MAE loss 값을 찾아서 threshold(한계점)으로 지정\n",
    "- 3. 샘플의 reconstruction loss 가 threshold 값 보다 크면 이상(anomaly) 패턴으로 추론"
   ]
  },
  {
   "cell_type": "code",
   "execution_count": 13,
   "id": "present-blink",
   "metadata": {},
   "outputs": [
    {
     "data": {
      "image/png": "[encoded data removed]",
      "text/plain": [
       "<Figure size 432x288 with 1 Axes>"
      ]
     },
     "metadata": {
      "needs_background": "light"
     },
     "output_type": "display_data"
    },
    {
     "name": "stdout",
     "output_type": "stream",
     "text": [
      "Reconstruction error threshold:  0.06347774017428494\n"
     ]
    }
   ],
   "source": [
    "# Get train MAE loss.\n",
    "x_train_pred = model.predict(x_train)\n",
    "train_mae_loss = np.mean(np.abs(x_train_pred - x_train), axis=1)\n",
    "\n",
    "plt.hist(train_mae_loss, bins=50)\n",
    "plt.xlabel(\"Train MAE loss\")\n",
    "plt.ylabel(\"No of samples\")\n",
    "plt.show()\n",
    "\n",
    "# Get reconstruction loss threshold.\n",
    "threshold = np.max(train_mae_loss)\n",
    "print(\"Reconstruction error threshold: \", threshold)"
   ]
  },
  {
   "cell_type": "markdown",
   "id": "civic-beijing",
   "metadata": {},
   "source": [
    "### Recontruction 비교"
   ]
  },
  {
   "cell_type": "markdown",
   "id": "healthy-illness",
   "metadata": {},
   "source": [
    "모델이 `x_train` 데이터를 어떻게 재구성했는지 확인해보자. "
   ]
  },
  {
   "cell_type": "code",
   "execution_count": 14,
   "id": "placed-helmet",
   "metadata": {},
   "outputs": [
    {
     "data": {
      "image/png": "[encoded data removed]",
      "text/plain": [
       "<Figure size 432x288 with 1 Axes>"
      ]
     },
     "metadata": {
      "needs_background": "light"
     },
     "output_type": "display_data"
    }
   ],
   "source": [
    "# Checking how the first sequence is learnt\n",
    "plt.plot(x_train[0], color='c', label='real')\n",
    "plt.legend()\n",
    "plt.plot(x_train_pred[0],color='m', label='predict')\n",
    "plt.legend()\n",
    "plt.show()"
   ]
  },
  {
   "cell_type": "markdown",
   "id": "official-handbook",
   "metadata": {},
   "source": [
    "### 테스트 데이터 준비"
   ]
  },
  {
   "cell_type": "code",
   "execution_count": 15,
   "id": "unlikely-creature",
   "metadata": {},
   "outputs": [
    {
     "data": {
      "image/png": "[encoded data removed]",
      "text/plain": [
       "<Figure size 432x288 with 1 Axes>"
      ]
     },
     "metadata": {
      "needs_background": "light"
     },
     "output_type": "display_data"
    }
   ],
   "source": [
    "df_test_value = (df_daily_jumpsup - training_mean) / training_std\n",
    "fig, ax = plt.subplots()\n",
    "df_test_value.plot(legend=False, ax=ax)\n",
    "plt.show()"
   ]
  },
  {
   "cell_type": "code",
   "execution_count": 16,
   "id": "professional-desperate",
   "metadata": {},
   "outputs": [
    {
     "name": "stdout",
     "output_type": "stream",
     "text": [
      "Test input shape:  (3745, 288, 1)\n"
     ]
    }
   ],
   "source": [
    "# Create sequences from test values.\n",
    "x_test = create_sequences(df_test_value.values)\n",
    "print(\"Test input shape: \", x_test.shape)"
   ]
  },
  {
   "cell_type": "code",
   "execution_count": 17,
   "id": "revised-volunteer",
   "metadata": {},
   "outputs": [
    {
     "data": {
      "image/png": "[encoded data removed]",
      "text/plain": [
       "<Figure size 432x288 with 1 Axes>"
      ]
     },
     "metadata": {
      "needs_background": "light"
     },
     "output_type": "display_data"
    }
   ],
   "source": [
    "# Get test MAE loss.\n",
    "x_test_pred = model.predict(x_test)\n",
    "test_mae_loss = np.mean(np.abs(x_test_pred - x_test), axis=1)\n",
    "test_mae_loss = test_mae_loss.reshape((-1))\n",
    "\n",
    "plt.hist(test_mae_loss, bins=50)\n",
    "plt.xlabel(\"test MAE loss\")\n",
    "plt.ylabel(\"No of samples\")\n",
    "plt.show()"
   ]
  },
  {
   "cell_type": "code",
   "execution_count": 18,
   "id": "encouraging-advice",
   "metadata": {},
   "outputs": [
    {
     "name": "stdout",
     "output_type": "stream",
     "text": [
      "Number of anomaly samples:  416\n",
      "Indices of anomaly samples:  (array([ 775,  791,  792,  793,  794,  795,  797,  973, 1657, 1945, 2520,\n",
      "       2521, 2522, 2523, 2698, 2701, 2702, 2703, 2704, 2705, 2706, 2707,\n",
      "       2708, 2709, 2710, 2711, 2712, 2713, 2714, 2715, 2716, 2717, 2718,\n",
      "       2719, 2720, 2721, 2722, 2723, 2724, 2725, 2726, 2727, 2728, 2729,\n",
      "       2730, 2731, 2732, 2733, 2734, 2735, 2736, 2737, 2738, 2739, 2740,\n",
      "       2741, 2742, 2743, 2744, 2745, 2746, 2747, 2748, 2749, 2750, 2751,\n",
      "       2752, 2753, 2754, 2755, 2756, 2757, 2758, 2759, 2760, 2761, 2762,\n",
      "       2763, 2764, 2765, 2766, 2767, 2768, 2769, 2770, 2771, 2772, 2773,\n",
      "       2774, 2775, 2776, 2777, 2778, 2779, 2780, 2781, 2782, 2783, 2784,\n",
      "       2785, 2786, 2787, 2788, 2789, 2790, 2791, 2792, 2793, 2794, 2795,\n",
      "       2796, 2797, 2798, 2799, 2800, 2801, 2802, 2803, 2804, 2805, 2806,\n",
      "       2807, 2808, 2809, 2810, 2811, 2812, 2813, 2814, 2815, 2816, 2817,\n",
      "       2818, 2819, 2820, 2821, 2822, 2823, 2824, 2825, 2826, 2827, 2828,\n",
      "       2829, 2830, 2831, 2832, 2833, 2834, 2835, 2836, 2837, 2838, 2839,\n",
      "       2840, 2841, 2842, 2843, 2844, 2845, 2846, 2847, 2848, 2849, 2850,\n",
      "       2851, 2852, 2853, 2854, 2855, 2856, 2857, 2858, 2859, 2860, 2861,\n",
      "       2862, 2863, 2864, 2865, 2866, 2867, 2868, 2869, 2870, 2871, 2872,\n",
      "       2873, 2874, 2875, 2876, 2877, 2878, 2879, 2880, 2881, 2882, 2883,\n",
      "       2884, 2885, 2886, 2887, 2888, 2889, 2890, 2891, 2892, 2893, 2894,\n",
      "       2895, 2896, 2897, 2898, 2899, 2900, 2901, 2902, 2903, 2904, 2905,\n",
      "       2906, 2907, 2908, 2909, 2910, 2911, 2912, 2913, 2914, 2915, 2916,\n",
      "       2917, 2918, 2919, 2920, 2921, 2922, 2923, 2924, 2925, 2926, 2927,\n",
      "       2928, 2929, 2930, 2931, 2932, 2933, 2934, 2935, 2936, 2937, 2938,\n",
      "       2939, 2940, 2941, 2942, 2943, 2944, 2945, 2946, 2947, 2948, 2949,\n",
      "       2950, 2951, 2952, 2953, 2954, 2955, 2956, 2957, 2958, 2959, 2960,\n",
      "       2961, 2962, 2963, 2964, 2965, 2966, 2967, 2968, 2969, 2970, 2971,\n",
      "       2972, 2973, 2974, 2975, 2976, 2977, 2978, 2979, 2980, 2981, 2982,\n",
      "       2983, 2984, 2985, 2986, 2987, 2988, 2989, 2990, 2991, 2992, 2993,\n",
      "       2994, 2995, 2996, 2997, 2998, 2999, 3000, 3001, 3002, 3003, 3004,\n",
      "       3005, 3006, 3007, 3008, 3009, 3010, 3011, 3012, 3013, 3014, 3015,\n",
      "       3016, 3017, 3018, 3019, 3020, 3021, 3022, 3023, 3024, 3025, 3026,\n",
      "       3027, 3028, 3029, 3030, 3031, 3032, 3033, 3034, 3035, 3036, 3037,\n",
      "       3038, 3039, 3040, 3041, 3042, 3043, 3044, 3045, 3046, 3047, 3048,\n",
      "       3049, 3050, 3051, 3052, 3053, 3054, 3055, 3056, 3057, 3058, 3059,\n",
      "       3060, 3061, 3062, 3063, 3064, 3065, 3066, 3067, 3068, 3069, 3070,\n",
      "       3071, 3072, 3073, 3074, 3075, 3076, 3077, 3078, 3079, 3080, 3081,\n",
      "       3082, 3083, 3084, 3085, 3086, 3087, 3088, 3089, 3090, 3091, 3092,\n",
      "       3093, 3094, 3095, 3096, 3097, 3098, 3099, 3100, 3101]),)\n"
     ]
    }
   ],
   "source": [
    "# Detect all the samples which are anomalies.\n",
    "anomalies = test_mae_loss > threshold\n",
    "print(\"Number of anomaly samples: \", np.sum(anomalies))\n",
    "print(\"Indices of anomaly samples: \", np.where(anomalies))"
   ]
  },
  {
   "cell_type": "markdown",
   "id": "lesbian-motel",
   "metadata": {},
   "source": [
    "----\n",
    "## 7. 이상치 시각화\n",
    "\n",
    "위에서 구한 비정상 데이터 샘플을 이용하여 `timestamps` 원본 테스트 데이터에서 해당 항목을 찾을 수 있다.\n",
    "\n",
    "예를 들어, time_steps = 3 이고, 10개의 훈련 값이 있다고 가정  \n",
    "- 0, 1, 2\n",
    "- 1, 2, 3\n",
    "- 2, 3, 4\n",
    "- 3, 4, 5\n",
    "- 4, 5, 6\n",
    "- 5, 6, 7\n",
    "- 6, 7, 8\n",
    "- 7, 8, 9\n",
    "\n",
    "샘플 \\[(3, 4, 5), (4, 5, 6), (5, 6, 7)\\]이 비정상이라는 것을 안다면, 데이터 포인트 5가 비정상이라고 말할 수 있다.    \n",
    "\n",
    "\n",
    "\n",
    "즉, (i - `timesteps` + 1)번째 샘플데이터부터 i번째 샘플데이터가 비정상 데이터라면 i번째 데이터가 비정상 데이터라고 할 수 있다.  \n",
    "\n",
    "이때, 처음 `time_step`-1 번째까지의 샘플데이터와  마지막에서 `time_step`-1 번째까지의 샘플 데이터는 제외"
   ]
  },
  {
   "cell_type": "code",
   "execution_count": 19,
   "id": "desirable-pride",
   "metadata": {},
   "outputs": [],
   "source": [
    "anomalous_data_indices = []\n",
    "for data_idx in range(TIME_STEPS - 1, len(df_test_value) - TIME_STEPS + 1):\n",
    "    if np.all(anomalies[data_idx - TIME_STEPS + 1 : data_idx]):\n",
    "        anomalous_data_indices.append(data_idx)"
   ]
  },
  {
   "cell_type": "markdown",
   "id": "rubber-glucose",
   "metadata": {},
   "source": [
    "원본 테스트 데이터에 이상 데이터를 시각화 해보겠다."
   ]
  },
  {
   "cell_type": "code",
   "execution_count": 20,
   "id": "latest-enhancement",
   "metadata": {
    "scrolled": true
   },
   "outputs": [
    {
     "data": {
      "image/png": "[encoded data removed]",
      "text/plain": [
       "<Figure size 432x288 with 1 Axes>"
      ]
     },
     "metadata": {
      "needs_background": "light"
     },
     "output_type": "display_data"
    }
   ],
   "source": [
    "df_subset = df_daily_jumpsup.iloc[anomalous_data_indices]\n",
    "fig, ax = plt.subplots()\n",
    "df_daily_jumpsup.plot(legend=False, ax=ax)\n",
    "df_subset.plot(legend=False, ax=ax, color=\"r\")\n",
    "plt.show()"
   ]
  },
  {
   "cell_type": "markdown",
   "id": "bacterial-causing",
   "metadata": {},
   "source": [
    "----\n",
    "----\n",
    "# LSTM Autoencoder 을 사용한 시계열 데이터 이상 탐지"
   ]
  },
  {
   "cell_type": "markdown",
   "id": "noble-australian",
   "metadata": {},
   "source": [
    "## 모델 생성"
   ]
  },
  {
   "cell_type": "code",
   "execution_count": 21,
   "id": "premium-silver",
   "metadata": {},
   "outputs": [
    {
     "name": "stdout",
     "output_type": "stream",
     "text": [
      "Model: \"sequential_1\"\n",
      "_________________________________________________________________\n",
      "Layer (type)                 Output Shape              Param #   \n",
      "=================================================================\n",
      "lstm (LSTM)                  (None, 64)                16896     \n",
      "_________________________________________________________________\n",
      "dropout_2 (Dropout)          (None, 64)                0         \n",
      "_________________________________________________________________\n",
      "repeat_vector (RepeatVector) (None, 288, 64)           0         \n",
      "_________________________________________________________________\n",
      "lstm_1 (LSTM)                (None, 288, 64)           33024     \n",
      "_________________________________________________________________\n",
      "dropout_3 (Dropout)          (None, 288, 64)           0         \n",
      "_________________________________________________________________\n",
      "time_distributed (TimeDistri (None, 288, 1)            65        \n",
      "=================================================================\n",
      "Total params: 49,985\n",
      "Trainable params: 49,985\n",
      "Non-trainable params: 0\n",
      "_________________________________________________________________\n"
     ]
    }
   ],
   "source": [
    "model = keras.Sequential()\n",
    "model.add(layers.LSTM(\n",
    "    units=64,\n",
    "    input_shape=(x_train.shape[1], x_train.shape[2])\n",
    "))\n",
    "model.add(layers.Dropout(rate=0.2))\n",
    "model.add(layers.RepeatVector(n=x_train.shape[1]))\n",
    "model.add(layers.LSTM(units=64, return_sequences=True))\n",
    "model.add(layers.Dropout(rate=0.2))\n",
    "model.add(\n",
    "    \n",
    "    layers.TimeDistributed(\n",
    "    layers.Dense(units=x_train.shape[2])\n",
    "  )\n",
    ")\n",
    "model.compile(loss='mse', optimizer=keras.optimizers.Adam(learning_rate=0.001))\n",
    "model.summary()"
   ]
  },
  {
   "cell_type": "markdown",
   "id": "nervous-documentary",
   "metadata": {},
   "source": [
    "## 모델 훈련"
   ]
  },
  {
   "cell_type": "code",
   "execution_count": 22,
   "id": "celtic-induction",
   "metadata": {},
   "outputs": [
    {
     "name": "stdout",
     "output_type": "stream",
     "text": [
      "Epoch 1/50\n",
      "27/27 [==============================] - 5s 106ms/step - loss: 1.0005 - val_loss: 0.9824\n",
      "Epoch 2/50\n",
      "27/27 [==============================] - 2s 80ms/step - loss: 0.9550 - val_loss: 0.9247\n",
      "Epoch 3/50\n",
      "27/27 [==============================] - 2s 80ms/step - loss: 0.9242 - val_loss: 0.9290\n",
      "Epoch 4/50\n",
      "27/27 [==============================] - 2s 80ms/step - loss: 0.9193 - val_loss: 0.9169\n",
      "Epoch 5/50\n",
      "27/27 [==============================] - 2s 80ms/step - loss: 0.8847 - val_loss: 1.0703\n",
      "Epoch 6/50\n",
      "27/27 [==============================] - 2s 80ms/step - loss: 0.9366 - val_loss: 0.8619\n",
      "Epoch 7/50\n",
      "27/27 [==============================] - 2s 80ms/step - loss: 0.8025 - val_loss: 0.7721\n",
      "Epoch 8/50\n",
      "27/27 [==============================] - 2s 80ms/step - loss: 0.7117 - val_loss: 0.5086\n",
      "Epoch 9/50\n",
      "27/27 [==============================] - 2s 80ms/step - loss: 0.4305 - val_loss: 0.2180\n",
      "Epoch 10/50\n",
      "27/27 [==============================] - 2s 81ms/step - loss: 0.2597 - val_loss: 0.1666\n",
      "Epoch 11/50\n",
      "27/27 [==============================] - 2s 81ms/step - loss: 0.1951 - val_loss: 0.1391\n",
      "Epoch 12/50\n",
      "27/27 [==============================] - 2s 80ms/step - loss: 0.1719 - val_loss: 0.1315\n",
      "Epoch 13/50\n",
      "27/27 [==============================] - 2s 80ms/step - loss: 0.1556 - val_loss: 0.1007\n",
      "Epoch 14/50\n",
      "27/27 [==============================] - 2s 80ms/step - loss: 0.1441 - val_loss: 0.1008\n",
      "Epoch 15/50\n",
      "27/27 [==============================] - 2s 80ms/step - loss: 0.1365 - val_loss: 0.0886\n",
      "Epoch 16/50\n",
      "27/27 [==============================] - 2s 80ms/step - loss: 0.1259 - val_loss: 0.0987\n",
      "Epoch 17/50\n",
      "27/27 [==============================] - 2s 80ms/step - loss: 0.1309 - val_loss: 0.0938\n",
      "Epoch 18/50\n",
      "27/27 [==============================] - 2s 80ms/step - loss: 0.1247 - val_loss: 0.0788\n",
      "Epoch 19/50\n",
      "27/27 [==============================] - 2s 80ms/step - loss: 0.1189 - val_loss: 0.0968\n",
      "Epoch 20/50\n",
      "27/27 [==============================] - 2s 80ms/step - loss: 0.1149 - val_loss: 0.1302\n",
      "Epoch 21/50\n",
      "27/27 [==============================] - 2s 80ms/step - loss: 0.1352 - val_loss: 0.1150\n",
      "Epoch 22/50\n",
      "27/27 [==============================] - 2s 80ms/step - loss: 0.1112 - val_loss: 0.0907\n",
      "Epoch 23/50\n",
      "27/27 [==============================] - 2s 80ms/step - loss: 0.1165 - val_loss: 0.0716\n",
      "Epoch 24/50\n",
      "27/27 [==============================] - 2s 80ms/step - loss: 0.0993 - val_loss: 0.0818\n",
      "Epoch 25/50\n",
      "27/27 [==============================] - 2s 81ms/step - loss: 0.1094 - val_loss: 0.0919\n",
      "Epoch 26/50\n",
      "27/27 [==============================] - 2s 80ms/step - loss: 0.1159 - val_loss: 0.0743\n",
      "Epoch 27/50\n",
      "27/27 [==============================] - 2s 80ms/step - loss: 0.0983 - val_loss: 0.0781\n",
      "Epoch 28/50\n",
      "27/27 [==============================] - 2s 80ms/step - loss: 0.0977 - val_loss: 0.0641\n",
      "Epoch 29/50\n",
      "27/27 [==============================] - 2s 80ms/step - loss: 0.1013 - val_loss: 0.0611\n",
      "Epoch 30/50\n",
      "27/27 [==============================] - 2s 80ms/step - loss: 0.0999 - val_loss: 0.0581\n",
      "Epoch 31/50\n",
      "27/27 [==============================] - 2s 80ms/step - loss: 0.0959 - val_loss: 0.0811\n",
      "Epoch 32/50\n",
      "27/27 [==============================] - 2s 80ms/step - loss: 0.1019 - val_loss: 0.0870\n",
      "Epoch 33/50\n",
      "27/27 [==============================] - 2s 80ms/step - loss: 0.0964 - val_loss: 0.0690\n",
      "Epoch 34/50\n",
      "27/27 [==============================] - 2s 80ms/step - loss: 0.0942 - val_loss: 0.0605\n",
      "Epoch 35/50\n",
      "27/27 [==============================] - 2s 80ms/step - loss: 0.0976 - val_loss: 0.0681\n"
     ]
    }
   ],
   "source": [
    "history = model.fit(\n",
    "    x_train,\n",
    "    x_train,\n",
    "    epochs=50,\n",
    "    batch_size=128,\n",
    "    validation_split=0.1,\n",
    "    callbacks=[\n",
    "        keras.callbacks.EarlyStopping(monitor=\"val_loss\", patience=5, mode=\"min\")\n",
    "    ],\n",
    ")"
   ]
  },
  {
   "cell_type": "code",
   "execution_count": 23,
   "id": "altered-excuse",
   "metadata": {},
   "outputs": [
    {
     "data": {
      "image/png": "[encoded data removed]",
      "text/plain": [
       "<Figure size 432x288 with 1 Axes>"
      ]
     },
     "metadata": {
      "needs_background": "light"
     },
     "output_type": "display_data"
    }
   ],
   "source": [
    "plt.plot(history.history[\"loss\"], label=\"Training Loss\")\n",
    "plt.plot(history.history[\"val_loss\"], label=\"Validation Loss\")\n",
    "plt.legend()\n",
    "plt.show()"
   ]
  },
  {
   "cell_type": "markdown",
   "id": "introductory-transport",
   "metadata": {},
   "source": [
    "## 이상 탐지"
   ]
  },
  {
   "cell_type": "code",
   "execution_count": 24,
   "id": "champion-funds",
   "metadata": {},
   "outputs": [
    {
     "data": {
      "image/png": "[encoded data removed]",
      "text/plain": [
       "<Figure size 432x288 with 1 Axes>"
      ]
     },
     "metadata": {
      "needs_background": "light"
     },
     "output_type": "display_data"
    },
    {
     "name": "stdout",
     "output_type": "stream",
     "text": [
      "Reconstruction error threshold:  0.21807852983574072\n"
     ]
    }
   ],
   "source": [
    "# Get train MAE loss.\n",
    "x_train_pred = model.predict(x_train)\n",
    "train_mae_loss = np.mean(np.abs(x_train_pred - x_train), axis=1)\n",
    "\n",
    "plt.hist(train_mae_loss, bins=50)\n",
    "plt.xlabel(\"Train MAE loss\")\n",
    "plt.ylabel(\"No of samples\")\n",
    "plt.show()\n",
    "\n",
    "# Get reconstruction loss threshold.\n",
    "threshold = np.max(train_mae_loss)\n",
    "print(\"Reconstruction error threshold: \", threshold)"
   ]
  },
  {
   "cell_type": "markdown",
   "id": "material-secret",
   "metadata": {},
   "source": [
    "### Recontruction 비교\n",
    "모델이 `x_train` 데이터를 어떻게 재구성했는지 확인해보자."
   ]
  },
  {
   "cell_type": "code",
   "execution_count": 25,
   "id": "common-harassment",
   "metadata": {},
   "outputs": [
    {
     "data": {
      "image/png": "[encoded data removed]",
      "text/plain": [
       "<Figure size 432x288 with 1 Axes>"
      ]
     },
     "metadata": {
      "needs_background": "light"
     },
     "output_type": "display_data"
    }
   ],
   "source": [
    "# Checking how the first sequence is learnt\n",
    "plt.plot(x_train[0], color='c', label='real')\n",
    "plt.legend()\n",
    "plt.plot(x_train_pred[0],color='m', label='predict')\n",
    "plt.legend()\n",
    "plt.show()"
   ]
  },
  {
   "cell_type": "code",
   "execution_count": 26,
   "id": "undefined-mention",
   "metadata": {},
   "outputs": [
    {
     "data": {
      "image/png": "[encoded data removed]",
      "text/plain": [
       "<Figure size 432x288 with 1 Axes>"
      ]
     },
     "metadata": {
      "needs_background": "light"
     },
     "output_type": "display_data"
    }
   ],
   "source": [
    "# Get test MAE loss.\n",
    "x_test_pred = model.predict(x_test)\n",
    "test_mae_loss = np.mean(np.abs(x_test_pred - x_test), axis=1)\n",
    "test_mae_loss = test_mae_loss.reshape((-1))\n",
    "\n",
    "plt.hist(test_mae_loss, bins=50)\n",
    "plt.xlabel(\"test MAE loss\")\n",
    "plt.ylabel(\"No of samples\")\n",
    "plt.show()"
   ]
  },
  {
   "cell_type": "code",
   "execution_count": 27,
   "id": "relative-boston",
   "metadata": {},
   "outputs": [
    {
     "name": "stdout",
     "output_type": "stream",
     "text": [
      "Number of anomaly samples:  389\n",
      "Indices of anomaly samples:  (array([2386, 2387, 2388, 2703, 2704, 2705, 2706, 2707, 2708, 2709, 2710,\n",
      "       2711, 2712, 2713, 2714, 2715, 2716, 2717, 2718, 2719, 2720, 2721,\n",
      "       2722, 2723, 2724, 2725, 2726, 2727, 2728, 2729, 2730, 2731, 2732,\n",
      "       2733, 2734, 2735, 2736, 2737, 2738, 2739, 2740, 2741, 2742, 2743,\n",
      "       2744, 2745, 2746, 2747, 2748, 2749, 2750, 2751, 2752, 2753, 2754,\n",
      "       2755, 2756, 2757, 2758, 2759, 2760, 2761, 2762, 2763, 2764, 2765,\n",
      "       2766, 2767, 2768, 2769, 2770, 2771, 2772, 2773, 2774, 2775, 2776,\n",
      "       2777, 2778, 2779, 2780, 2781, 2782, 2783, 2784, 2785, 2786, 2787,\n",
      "       2788, 2789, 2790, 2791, 2792, 2793, 2794, 2795, 2796, 2797, 2798,\n",
      "       2799, 2800, 2801, 2802, 2803, 2804, 2805, 2806, 2807, 2808, 2809,\n",
      "       2810, 2811, 2812, 2813, 2814, 2815, 2816, 2817, 2818, 2819, 2820,\n",
      "       2821, 2822, 2823, 2824, 2825, 2826, 2827, 2828, 2829, 2830, 2831,\n",
      "       2832, 2833, 2834, 2835, 2836, 2837, 2838, 2839, 2840, 2841, 2842,\n",
      "       2843, 2844, 2845, 2846, 2847, 2848, 2849, 2850, 2851, 2852, 2853,\n",
      "       2854, 2855, 2856, 2857, 2858, 2859, 2860, 2861, 2862, 2863, 2864,\n",
      "       2865, 2866, 2867, 2868, 2869, 2870, 2871, 2872, 2873, 2874, 2875,\n",
      "       2876, 2877, 2878, 2879, 2880, 2881, 2882, 2883, 2884, 2885, 2886,\n",
      "       2887, 2888, 2889, 2890, 2891, 2892, 2893, 2894, 2895, 2896, 2897,\n",
      "       2898, 2899, 2900, 2901, 2902, 2903, 2904, 2905, 2906, 2907, 2908,\n",
      "       2909, 2910, 2911, 2912, 2913, 2914, 2915, 2916, 2917, 2918, 2919,\n",
      "       2920, 2921, 2922, 2923, 2924, 2925, 2926, 2927, 2928, 2929, 2930,\n",
      "       2931, 2932, 2933, 2934, 2935, 2936, 2937, 2938, 2939, 2940, 2941,\n",
      "       2942, 2943, 2944, 2945, 2946, 2947, 2948, 2949, 2950, 2951, 2952,\n",
      "       2953, 2954, 2955, 2956, 2957, 2958, 2959, 2960, 2961, 2962, 2963,\n",
      "       2964, 2965, 2966, 2967, 2968, 2969, 2970, 2971, 2972, 2973, 2974,\n",
      "       2975, 2976, 2977, 2978, 2979, 2980, 2981, 2982, 2983, 2984, 2985,\n",
      "       2986, 2987, 2988, 2989, 2990, 2991, 2992, 2993, 2994, 2995, 2996,\n",
      "       2997, 2998, 2999, 3000, 3001, 3002, 3003, 3004, 3005, 3006, 3007,\n",
      "       3008, 3009, 3010, 3011, 3012, 3013, 3014, 3015, 3016, 3017, 3018,\n",
      "       3019, 3020, 3021, 3022, 3023, 3024, 3025, 3026, 3027, 3028, 3029,\n",
      "       3030, 3031, 3032, 3033, 3034, 3035, 3036, 3037, 3038, 3039, 3040,\n",
      "       3041, 3042, 3043, 3044, 3045, 3046, 3047, 3048, 3049, 3050, 3051,\n",
      "       3052, 3053, 3054, 3055, 3056, 3057, 3058, 3059, 3060, 3061, 3062,\n",
      "       3063, 3064, 3065, 3066, 3067, 3068, 3069, 3070, 3071, 3072, 3073,\n",
      "       3074, 3075, 3076, 3077, 3078, 3079, 3080, 3081, 3082, 3083, 3084,\n",
      "       3085, 3086, 3087, 3088]),)\n"
     ]
    }
   ],
   "source": [
    "# Detect all the samples which are anomalies.\n",
    "anomalies = test_mae_loss > threshold\n",
    "print(\"Number of anomaly samples: \", np.sum(anomalies))\n",
    "print(\"Indices of anomaly samples: \", np.where(anomalies))"
   ]
  },
  {
   "cell_type": "markdown",
   "id": "multiple-expansion",
   "metadata": {},
   "source": [
    "## 이상치 시각화"
   ]
  },
  {
   "cell_type": "code",
   "execution_count": 28,
   "id": "according-empty",
   "metadata": {},
   "outputs": [],
   "source": [
    "anomalous_data_indices = []\n",
    "for data_idx in range(TIME_STEPS - 1, len(df_test_value) - TIME_STEPS + 1):\n",
    "    if np.all(anomalies[data_idx - TIME_STEPS + 1 : data_idx]):\n",
    "        anomalous_data_indices.append(data_idx)"
   ]
  },
  {
   "cell_type": "code",
   "execution_count": 29,
   "id": "pressed-conducting",
   "metadata": {},
   "outputs": [
    {
     "data": {
      "image/png": "[encoded data removed]",
      "text/plain": [
       "<Figure size 432x288 with 1 Axes>"
      ]
     },
     "metadata": {
      "needs_background": "light"
     },
     "output_type": "display_data"
    }
   ],
   "source": [
    "df_subset = df_daily_jumpsup.iloc[anomalous_data_indices]\n",
    "fig, ax = plt.subplots()\n",
    "df_daily_jumpsup.plot(legend=False, ax=ax)\n",
    "df_subset.plot(legend=False, ax=ax, color=\"r\")\n",
    "plt.show()"
   ]
  },
  {
   "cell_type": "markdown",
   "id": "compatible-rescue",
   "metadata": {},
   "source": [
    "autoencoder 를 사용하여 이상 탐지를 할 수 있는 것을 확인 할 수 있다."
   ]
  },
  {
   "cell_type": "code",
   "execution_count": null,
   "id": "russian-stomach",
   "metadata": {},
   "outputs": [],
   "source": []
  }
 ],
 "metadata": {
  "kernelspec": {
   "display_name": "Python 3",
   "language": "python",
   "name": "python3"
  },
  "language_info": {
   "codemirror_mode": {
    "name": "ipython",
    "version": 3
   },
   "file_extension": ".py",
   "mimetype": "text/x-python",
   "name": "python",
   "nbconvert_exporter": "python",
   "pygments_lexer": "ipython3",
   "version": "3.7.9"
  }
 },
 "nbformat": 4,
 "nbformat_minor": 5
}
